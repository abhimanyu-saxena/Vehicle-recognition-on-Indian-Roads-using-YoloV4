{
  "nbformat": 4,
  "nbformat_minor": 0,
  "metadata": {
    "colab": {
      "name": "DBAI - Model Training Steps.ipynb",
      "provenance": [],
      "mount_file_id": "1ar35F7FqWPNBMVRsNo7-oRGqkH9csiG5",
      "authorship_tag": "ABX9TyNWFsB2Qc0EOtsxAamdrEvD",
      "include_colab_link": true
    },
    "kernelspec": {
      "name": "python3",
      "display_name": "Python 3"
    },
    "language_info": {
      "name": "python"
    }
  },
  "cells": [
    {
      "cell_type": "markdown",
      "metadata": {
        "id": "view-in-github",
        "colab_type": "text"
      },
      "source": [
        "<a href=\"https://colab.research.google.com/github/abhimanyu-saxena/YoloV4-/blob/main/Model_Training_Steps.ipynb\" target=\"_parent\"><img src=\"https://colab.research.google.com/assets/colab-badge.svg\" alt=\"Open In Colab\"/></a>"
      ]
    },
    {
      "cell_type": "markdown",
      "metadata": {
        "id": "3o8TJYulgaZa"
      },
      "source": [
        "Step 1 - Mount Drive"
      ]
    },
    {
      "cell_type": "code",
      "metadata": {
        "id": "E_McnUPrfZoi"
      },
      "source": [
        "from google.colab import drive\n",
        "drive.mount('/content/drive')"
      ],
      "execution_count": null,
      "outputs": []
    },
    {
      "cell_type": "markdown",
      "metadata": {
        "id": "uF3akqfvgY_I"
      },
      "source": [
        "Step 2 - Connect to gpu and check availability"
      ]
    },
    {
      "cell_type": "code",
      "metadata": {
        "id": "6XNn_5CtgZw1"
      },
      "source": [
        "!nvidia-smi"
      ],
      "execution_count": null,
      "outputs": []
    },
    {
      "cell_type": "markdown",
      "metadata": {
        "id": "inWT1zzogRg4"
      },
      "source": [
        "Step 3 - Clone AlexyAB darknet yolo repository\n",
        "(before this step crate a folder for the folder to keep filed organised)\n",
        "The git repo will be saved as darknet under YOLOv4 folder in my case"
      ]
    },
    {
      "cell_type": "code",
      "metadata": {
        "id": "9ZLbVcgzhJTo"
      },
      "source": [
        "!git clone 'https://github.com/AlexeyAB/darknet' '/content/drive/MyDrive/YOLOV4/darknet'"
      ],
      "execution_count": null,
      "outputs": []
    },
    {
      "cell_type": "markdown",
      "metadata": {
        "id": "kFwEGpWehrPs"
      },
      "source": [
        "Step 4 - Compile the make file and prepare the model base"
      ]
    },
    {
      "cell_type": "code",
      "metadata": {
        "id": "lvfI46prh10J"
      },
      "source": [
        "%cd '/content/drive/MyDrive/YOLOV4/darknet'"
      ],
      "execution_count": null,
      "outputs": []
    },
    {
      "cell_type": "code",
      "metadata": {
        "id": "zfLghfNSh7QE"
      },
      "source": [
        "#enabling GPU, CUDA and OpenCV\n",
        "!sed -i 's/OPENCV=0/OPENCV=1/' Makefile\n",
        "!sed -i 's/GPU=0/GPU=1/' Makefile\n",
        "!sed -i 's/CUDNN=0/CUDNN=1/' Makefile\n",
        "!sed -i 's/CUDNN_HALF=0/CUDNN_HALF=1/' Makefile"
      ],
      "execution_count": null,
      "outputs": []
    },
    {
      "cell_type": "code",
      "metadata": {
        "id": "A2EkBzHZiC4n"
      },
      "source": [
        "!make"
      ],
      "execution_count": null,
      "outputs": []
    },
    {
      "cell_type": "markdown",
      "metadata": {
        "id": "IVZ426-FiFaP"
      },
      "source": [
        "\n",
        "Step 5 - Unzip the trainign and validation folder with yolo txt anootations and images (upload the zip files before this step)"
      ]
    },
    {
      "cell_type": "code",
      "metadata": {
        "id": "52eTygYMiSrZ"
      },
      "source": [
        "%cd '/content/drive/MyDrive/YOLOV4/darknet/data'"
      ],
      "execution_count": null,
      "outputs": []
    },
    {
      "cell_type": "code",
      "metadata": {
        "id": "0MHCtrXdiey7"
      },
      "source": [
        "!unzip obj.zip\n",
        "!unzip test.zip"
      ],
      "execution_count": null,
      "outputs": []
    },
    {
      "cell_type": "markdown",
      "metadata": {
        "id": "VoGE3uQSinCl"
      },
      "source": [
        "Step 6 - Create a folder in Yolov4 folder by the name pre_weights, this will be used to download the pretrained weights for yoloV4 and Yolov4 tiny"
      ]
    },
    {
      "cell_type": "code",
      "metadata": {
        "id": "rJV8zy3CimOh"
      },
      "source": [
        "%cd '/content/drive/MyDrive/YOLOV4/pre_weight'"
      ],
      "execution_count": null,
      "outputs": []
    },
    {
      "cell_type": "code",
      "metadata": {
        "id": "RNUUO5vliz9I"
      },
      "source": [
        "# yoloV4 weights\n",
        "!wget https://github.com/AlexeyAB/darknet/releases/download/darknet_yolo_v3_optimal/yolov4.conv.137"
      ],
      "execution_count": null,
      "outputs": []
    },
    {
      "cell_type": "code",
      "metadata": {
        "id": "o6veXOHhi7uv"
      },
      "source": [
        "# yoloV4 tiny weights\n",
        "!wget https://github.com/AlexeyAB/darknet/releases/download/darknet_yolo_v4_pre/yolov4-tiny.conv.29"
      ],
      "execution_count": null,
      "outputs": []
    },
    {
      "cell_type": "markdown",
      "metadata": {
        "id": "gsp84vGFj41-"
      },
      "source": [
        "Step 7 - Upload train.txt, val.txt, obj.names file in the darknet/data folder"
      ]
    },
    {
      "cell_type": "code",
      "metadata": {
        "id": "d7Fuf02TkHS8"
      },
      "source": [
        "%cd '/content/drive/MyDrive/YOLOV4/darknet/data'\n",
        "!ls"
      ],
      "execution_count": null,
      "outputs": []
    },
    {
      "cell_type": "markdown",
      "metadata": {
        "id": "c0CzWhNmkZoZ"
      },
      "source": [
        "Step 8 - Configure the .cfg file under darknet/cfg (yolov4-custom.cvg for yolov4 and yolov4-tiny-custom.cgf got yolov4 tiny)"
      ]
    },
    {
      "cell_type": "markdown",
      "metadata": {
        "id": "jf5CtWealRo3"
      },
      "source": [
        "Step 9 - Train the custom object detector"
      ]
    },
    {
      "cell_type": "code",
      "metadata": {
        "id": "JV9Efp5avChG"
      },
      "source": [
        "%cd '/content/drive/MyDrive/YOLOV4/darknet'"
      ],
      "execution_count": null,
      "outputs": []
    },
    {
      "cell_type": "code",
      "metadata": {
        "id": "cqxiMzpDlWCs"
      },
      "source": [
        "#for Yolov4\n",
        "!./darknet detector train data/obj.data cfg/yolov4-obj.cfg /content/drive/MyDrive/YOLOV4/pre_weight/yolov4.conv.137 -dont_show -map | tee output_log_yolov4.log"
      ],
      "execution_count": null,
      "outputs": []
    },
    {
      "cell_type": "code",
      "metadata": {
        "id": "qhhm9-Vmlirl"
      },
      "source": [
        "#for Yolov4 tiny\n",
        "!./darknet detector train data/obj.data cfg/yolov4-tiny-obj.cfg /content/drive/MyDrive/YOLOV4/pre_weight/yolov4-tiny.conv.29 -dont_show -map -clear| tee output_log_yolov4_Tiny.log"
      ],
      "execution_count": null,
      "outputs": []
    },
    {
      "cell_type": "markdown",
      "metadata": {
        "id": "0WxHvQ4Tmbua"
      },
      "source": [
        "Step 9 - To view mAP score for each weight file(create backup folder for each model and pass in the obj.data file)"
      ]
    },
    {
      "cell_type": "code",
      "metadata": {
        "id": "Efsy3bgnt1g0"
      },
      "source": [
        "#yolov4\n",
        "!./darknet detector map data/obj.data cfg/yolov4-obj.cfg /content/drive/MyDrive/YOLOV4/backup/yolov4-obj_final.weights"
      ],
      "execution_count": null,
      "outputs": []
    },
    {
      "cell_type": "code",
      "metadata": {
        "id": "t0pFKSX0magA"
      },
      "source": [
        "#yolov4 tiny\n",
        "!./darknet detector map data/obj.data cfg/yolov4-tiny-obj.cfg /content/drive/MyDrive/YOLOV4/backup_tiny/yolov4-tiny-obj_final.weights"
      ],
      "execution_count": null,
      "outputs": []
    },
    {
      "cell_type": "markdown",
      "metadata": {
        "id": "jU_Mtmg8vGRP"
      },
      "source": [
        "Step 10 - Run predictions"
      ]
    },
    {
      "cell_type": "code",
      "metadata": {
        "id": "Ngw7A1d4vKF9"
      },
      "source": [
        "# need to set our custom cfg to test mode \n",
        "%cd cfg\n",
        "!sed -i 's/batch=64/batch=1/' yolov4-obj.cfg\n",
        "!sed -i 's/subdivisions=16/subdivisions=1/' yolov4-obj.cfg\n",
        "%cd ..\n",
        "\n",
        "#change cfg file name for tiny"
      ],
      "execution_count": null,
      "outputs": []
    },
    {
      "cell_type": "code",
      "metadata": {
        "id": "Y-bOOOHcuvkB"
      },
      "source": [
        "from IPython.display import Image"
      ],
      "execution_count": null,
      "outputs": []
    },
    {
      "cell_type": "code",
      "metadata": {
        "id": "PfEfa_pZlQ-V"
      },
      "source": [
        "!./darknet detector test data/obj.data cfg/yolov4-tiny-obj.cfg /content/drive/MyDrive/YOLOV4/backup/yolov4-obj_final.weights /content/drive/MyDrive/YOLOV4/video_rms_2020-11-07_18-54_128.jpg -thresh 0.3\n",
        "Image('predictions.jpg')"
      ],
      "execution_count": null,
      "outputs": []
    }
  ]
}